{
  "cells": [
    {
      "cell_type": "markdown",
      "metadata": {},
      "source": [
        "# Wan2.2 TI2V-5B VAE Inference Demo\n\n",
        "This notebook mirrors `examples/ti2v_vae_infer.py` and lets you encode/decode a video clip with the TI2V-5B VAE."
      ]
    },
    {
      "cell_type": "markdown",
      "metadata": {},
      "source": [
        "**Setup**\n",
        "1. Update the checkpoint and video paths below.\n",
        "2. Run the cells in order to produce a reconstructed video output."
      ]
    },
    {
      "cell_type": "code",
      "execution_count": null,
      "metadata": {},
      "outputs": [],
      "source": [
        "import os\n",
        "import sys\n",
        "import torch\n\n",
        "ROOT = os.path.abspath(os.path.join(os.getcwd(), \"..\"))\n",
        "if ROOT not in sys.path:\n",
        "    sys.path.append(ROOT)\n\n",
        "from examples.ti2v_vae_infer import run_inference\n",
        "from wan.configs import WAN_CONFIGS\n"
      ]
    },
    {
      "cell_type": "code",
      "execution_count": null,
      "metadata": {},
      "outputs": [],
      "source": [
        "# Paths and flags\n",
        "ckpt_dir = \"/path/to/Wan2.2-TI2V-5B\"  # Directory that contains Wan2.2_VAE.pth\n",
        "video_path = \"wan_animate/animate/video.mp4\"  # Relative to this notebook's folder by default\n",
        "output_path = \"ti2v_vae_reconstruction.mp4\"\n",
        "force_cpu = False\n",
        "fps_override = None  # Set to an integer to override FPS from the config\n",
        "stride_compat = 'error'  # options: 'error' (strict), 'trim', 'pad'\n",
        "resize = None  # e.g. '320x240' to resize before encoding\n"
      ]
    },
    {
      "cell_type": "code",
      "execution_count": null,
      "metadata": {},
      "outputs": [],
      "source": [
        "device = torch.device(\"cpu\") if force_cpu or not torch.cuda.is_available() else torch.device(\"cuda:0\")\n",
        "run_inference(\n",
        "    ckpt_dir=ckpt_dir,\n",
        "    video_path=video_path,\n",
        "    output_path=output_path,\n",
        "    device=device,\n",
        "    fps=fps_override,\n",
        "    stride_compat=stride_compat,\n",
        "    resize=resize,\n",
        ")\n"
      ]
    },
    {
      "cell_type": "code",
      "execution_count": null,
      "metadata": {},
      "outputs": [],
      "source": [
        "from IPython.display import Video\n\n",
        "Video(output_path)\n"
      ]
    }
  ],
  "metadata": {
    "kernelspec": {
      "display_name": "Python 3",
      "language": "python",
      "name": "python3"
    },
    "language_info": {
      "name": "python",
      "version": "3.10"
    }
  },
  "nbformat": 4,
  "nbformat_minor": 5
}